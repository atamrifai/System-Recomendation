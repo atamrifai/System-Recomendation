{
 "cells": [
  {
   "cell_type": "markdown",
   "id": "bc93cd2e",
   "metadata": {},
   "source": [
    "# Sistem Rekomendasi Produk Dari Amazon"
   ]
  },
  {
   "cell_type": "markdown",
   "id": "49c8e85c",
   "metadata": {},
   "source": [
    "## Persiapan Library"
   ]
  },
  {
   "cell_type": "code",
   "execution_count": 1,
   "id": "3d816ff5",
   "metadata": {},
   "outputs": [],
   "source": [
    "import numpy as np\n",
    "import pandas as pd\n",
    "from datetime import datetime,timedelta"
   ]
  },
  {
   "cell_type": "code",
   "execution_count": 2,
   "id": "69874f66",
   "metadata": {},
   "outputs": [],
   "source": [
    "# Plotting import\n",
    "import matplotlib.pyplot as plt\n",
    "from matplotlib.patches import Patch\n",
    "from matplotlib.ticker import MaxNLocator\n",
    "\n",
    "import seaborn as sns\n",
    "from IPython.display import Markdown, display\n",
    "def printmd(string):\n",
    "    display(Markdown(string))"
   ]
  },
  {
   "cell_type": "markdown",
   "id": "ff8d5eaf",
   "metadata": {},
   "source": [
    "## Memproses Data"
   ]
  },
  {
   "cell_type": "markdown",
   "id": "bba37498",
   "metadata": {},
   "source": [
    "### Memasukkan Data"
   ]
  },
  {
   "cell_type": "code",
   "execution_count": 3,
   "id": "87c59657",
   "metadata": {},
   "outputs": [],
   "source": [
    "from pathlib import Path\n",
    "comp_dir = Path('C:/Users/Atam Rifai S/OneDrive - ITPLN/OneDrive - Komputer/Script/Machine Learning/Dicoding/Rekomendasi sistem')"
   ]
  },
  {
   "cell_type": "code",
   "execution_count": 4,
   "id": "579602e5",
   "metadata": {},
   "outputs": [
    {
     "data": {
      "text/html": [
       "<div>\n",
       "<style scoped>\n",
       "    .dataframe tbody tr th:only-of-type {\n",
       "        vertical-align: middle;\n",
       "    }\n",
       "\n",
       "    .dataframe tbody tr th {\n",
       "        vertical-align: top;\n",
       "    }\n",
       "\n",
       "    .dataframe thead th {\n",
       "        text-align: right;\n",
       "    }\n",
       "</style>\n",
       "<table border=\"1\" class=\"dataframe\">\n",
       "  <thead>\n",
       "    <tr style=\"text-align: right;\">\n",
       "      <th></th>\n",
       "      <th>AKM1MP6P0OYPR</th>\n",
       "      <th>0132793040</th>\n",
       "      <th>5.0</th>\n",
       "      <th>1365811200</th>\n",
       "    </tr>\n",
       "  </thead>\n",
       "  <tbody>\n",
       "    <tr>\n",
       "      <th>0</th>\n",
       "      <td>A2CX7LUOHB2NDG</td>\n",
       "      <td>0321732944</td>\n",
       "      <td>5.0</td>\n",
       "      <td>1341100800</td>\n",
       "    </tr>\n",
       "    <tr>\n",
       "      <th>1</th>\n",
       "      <td>A2NWSAGRHCP8N5</td>\n",
       "      <td>0439886341</td>\n",
       "      <td>1.0</td>\n",
       "      <td>1367193600</td>\n",
       "    </tr>\n",
       "    <tr>\n",
       "      <th>2</th>\n",
       "      <td>A2WNBOD3WNDNKT</td>\n",
       "      <td>0439886341</td>\n",
       "      <td>3.0</td>\n",
       "      <td>1374451200</td>\n",
       "    </tr>\n",
       "    <tr>\n",
       "      <th>3</th>\n",
       "      <td>A1GI0U4ZRJA8WN</td>\n",
       "      <td>0439886341</td>\n",
       "      <td>1.0</td>\n",
       "      <td>1334707200</td>\n",
       "    </tr>\n",
       "    <tr>\n",
       "      <th>4</th>\n",
       "      <td>A1QGNMC6O1VW39</td>\n",
       "      <td>0511189877</td>\n",
       "      <td>5.0</td>\n",
       "      <td>1397433600</td>\n",
       "    </tr>\n",
       "    <tr>\n",
       "      <th>5</th>\n",
       "      <td>A3J3BRHTDRFJ2G</td>\n",
       "      <td>0511189877</td>\n",
       "      <td>2.0</td>\n",
       "      <td>1397433600</td>\n",
       "    </tr>\n",
       "    <tr>\n",
       "      <th>6</th>\n",
       "      <td>A2TY0BTJOTENPG</td>\n",
       "      <td>0511189877</td>\n",
       "      <td>5.0</td>\n",
       "      <td>1395878400</td>\n",
       "    </tr>\n",
       "    <tr>\n",
       "      <th>7</th>\n",
       "      <td>A34ATBPOK6HCHY</td>\n",
       "      <td>0511189877</td>\n",
       "      <td>5.0</td>\n",
       "      <td>1395532800</td>\n",
       "    </tr>\n",
       "    <tr>\n",
       "      <th>8</th>\n",
       "      <td>A89DO69P0XZ27</td>\n",
       "      <td>0511189877</td>\n",
       "      <td>5.0</td>\n",
       "      <td>1395446400</td>\n",
       "    </tr>\n",
       "    <tr>\n",
       "      <th>9</th>\n",
       "      <td>AZYNQZ94U6VDB</td>\n",
       "      <td>0511189877</td>\n",
       "      <td>5.0</td>\n",
       "      <td>1401321600</td>\n",
       "    </tr>\n",
       "  </tbody>\n",
       "</table>\n",
       "</div>"
      ],
      "text/plain": [
       "    AKM1MP6P0OYPR  0132793040  5.0  1365811200\n",
       "0  A2CX7LUOHB2NDG  0321732944  5.0  1341100800\n",
       "1  A2NWSAGRHCP8N5  0439886341  1.0  1367193600\n",
       "2  A2WNBOD3WNDNKT  0439886341  3.0  1374451200\n",
       "3  A1GI0U4ZRJA8WN  0439886341  1.0  1334707200\n",
       "4  A1QGNMC6O1VW39  0511189877  5.0  1397433600\n",
       "5  A3J3BRHTDRFJ2G  0511189877  2.0  1397433600\n",
       "6  A2TY0BTJOTENPG  0511189877  5.0  1395878400\n",
       "7  A34ATBPOK6HCHY  0511189877  5.0  1395532800\n",
       "8   A89DO69P0XZ27  0511189877  5.0  1395446400\n",
       "9   AZYNQZ94U6VDB  0511189877  5.0  1401321600"
      ]
     },
     "execution_count": 4,
     "metadata": {},
     "output_type": "execute_result"
    }
   ],
   "source": [
    "lectronics_data_pure=pd.read_csv(comp_dir / \"Amazon_Electronics_by_Ratings.csv\")\n",
    "lectronics_data_pure.head(10)"
   ]
  },
  {
   "cell_type": "markdown",
   "id": "c2d69d54",
   "metadata": {},
   "source": [
    "### Memberi Nama Kolom"
   ]
  },
  {
   "cell_type": "code",
   "execution_count": 5,
   "id": "7dda90cf",
   "metadata": {},
   "outputs": [
    {
     "data": {
      "text/html": [
       "<div>\n",
       "<style scoped>\n",
       "    .dataframe tbody tr th:only-of-type {\n",
       "        vertical-align: middle;\n",
       "    }\n",
       "\n",
       "    .dataframe tbody tr th {\n",
       "        vertical-align: top;\n",
       "    }\n",
       "\n",
       "    .dataframe thead th {\n",
       "        text-align: right;\n",
       "    }\n",
       "</style>\n",
       "<table border=\"1\" class=\"dataframe\">\n",
       "  <thead>\n",
       "    <tr style=\"text-align: right;\">\n",
       "      <th></th>\n",
       "      <th>userId</th>\n",
       "      <th>productId</th>\n",
       "      <th>rating</th>\n",
       "      <th>timestamp</th>\n",
       "    </tr>\n",
       "  </thead>\n",
       "  <tbody>\n",
       "    <tr>\n",
       "      <th>0</th>\n",
       "      <td>A2CX7LUOHB2NDG</td>\n",
       "      <td>0321732944</td>\n",
       "      <td>5</td>\n",
       "      <td>1341100800</td>\n",
       "    </tr>\n",
       "    <tr>\n",
       "      <th>1</th>\n",
       "      <td>A2NWSAGRHCP8N5</td>\n",
       "      <td>0439886341</td>\n",
       "      <td>1</td>\n",
       "      <td>1367193600</td>\n",
       "    </tr>\n",
       "    <tr>\n",
       "      <th>2</th>\n",
       "      <td>A2WNBOD3WNDNKT</td>\n",
       "      <td>0439886341</td>\n",
       "      <td>3</td>\n",
       "      <td>1374451200</td>\n",
       "    </tr>\n",
       "    <tr>\n",
       "      <th>3</th>\n",
       "      <td>A1GI0U4ZRJA8WN</td>\n",
       "      <td>0439886341</td>\n",
       "      <td>1</td>\n",
       "      <td>1334707200</td>\n",
       "    </tr>\n",
       "    <tr>\n",
       "      <th>4</th>\n",
       "      <td>A1QGNMC6O1VW39</td>\n",
       "      <td>0511189877</td>\n",
       "      <td>5</td>\n",
       "      <td>1397433600</td>\n",
       "    </tr>\n",
       "    <tr>\n",
       "      <th>5</th>\n",
       "      <td>A3J3BRHTDRFJ2G</td>\n",
       "      <td>0511189877</td>\n",
       "      <td>2</td>\n",
       "      <td>1397433600</td>\n",
       "    </tr>\n",
       "    <tr>\n",
       "      <th>6</th>\n",
       "      <td>A2TY0BTJOTENPG</td>\n",
       "      <td>0511189877</td>\n",
       "      <td>5</td>\n",
       "      <td>1395878400</td>\n",
       "    </tr>\n",
       "    <tr>\n",
       "      <th>7</th>\n",
       "      <td>A34ATBPOK6HCHY</td>\n",
       "      <td>0511189877</td>\n",
       "      <td>5</td>\n",
       "      <td>1395532800</td>\n",
       "    </tr>\n",
       "    <tr>\n",
       "      <th>8</th>\n",
       "      <td>A89DO69P0XZ27</td>\n",
       "      <td>0511189877</td>\n",
       "      <td>5</td>\n",
       "      <td>1395446400</td>\n",
       "    </tr>\n",
       "    <tr>\n",
       "      <th>9</th>\n",
       "      <td>AZYNQZ94U6VDB</td>\n",
       "      <td>0511189877</td>\n",
       "      <td>5</td>\n",
       "      <td>1401321600</td>\n",
       "    </tr>\n",
       "  </tbody>\n",
       "</table>\n",
       "</div>"
      ],
      "text/plain": [
       "           userId   productId  rating   timestamp\n",
       "0  A2CX7LUOHB2NDG  0321732944       5  1341100800\n",
       "1  A2NWSAGRHCP8N5  0439886341       1  1367193600\n",
       "2  A2WNBOD3WNDNKT  0439886341       3  1374451200\n",
       "3  A1GI0U4ZRJA8WN  0439886341       1  1334707200\n",
       "4  A1QGNMC6O1VW39  0511189877       5  1397433600\n",
       "5  A3J3BRHTDRFJ2G  0511189877       2  1397433600\n",
       "6  A2TY0BTJOTENPG  0511189877       5  1395878400\n",
       "7  A34ATBPOK6HCHY  0511189877       5  1395532800\n",
       "8   A89DO69P0XZ27  0511189877       5  1395446400\n",
       "9   AZYNQZ94U6VDB  0511189877       5  1401321600"
      ]
     },
     "execution_count": 5,
     "metadata": {},
     "output_type": "execute_result"
    }
   ],
   "source": [
    "#Menambahkan dataset dari review electronics\n",
    "electronics_data=pd.read_csv(comp_dir / \"Amazon_Electronics_by_Ratings.csv\", dtype={'rating': 'int8'},\n",
    "                             names=['userId', 'productId','rating','timestamp'], index_col=None, header=0)\n",
    "#Memperlihatkan head\n",
    "electronics_data.head(10)"
   ]
  },
  {
   "cell_type": "markdown",
   "id": "da792493",
   "metadata": {},
   "source": [
    "### Melihat Info Data"
   ]
  },
  {
   "cell_type": "code",
   "execution_count": 6,
   "id": "ca71fbb3",
   "metadata": {},
   "outputs": [
    {
     "data": {
      "text/html": [
       "<div>\n",
       "<style scoped>\n",
       "    .dataframe tbody tr th:only-of-type {\n",
       "        vertical-align: middle;\n",
       "    }\n",
       "\n",
       "    .dataframe tbody tr th {\n",
       "        vertical-align: top;\n",
       "    }\n",
       "\n",
       "    .dataframe thead th {\n",
       "        text-align: right;\n",
       "    }\n",
       "</style>\n",
       "<table border=\"1\" class=\"dataframe\">\n",
       "  <thead>\n",
       "    <tr style=\"text-align: right;\">\n",
       "      <th></th>\n",
       "      <th>rating</th>\n",
       "      <th>timestamp</th>\n",
       "    </tr>\n",
       "  </thead>\n",
       "  <tbody>\n",
       "    <tr>\n",
       "      <th>count</th>\n",
       "      <td>7.824481e+06</td>\n",
       "      <td>7.824481e+06</td>\n",
       "    </tr>\n",
       "    <tr>\n",
       "      <th>mean</th>\n",
       "      <td>4.012337e+00</td>\n",
       "      <td>1.338178e+09</td>\n",
       "    </tr>\n",
       "    <tr>\n",
       "      <th>std</th>\n",
       "      <td>1.380910e+00</td>\n",
       "      <td>6.900426e+07</td>\n",
       "    </tr>\n",
       "    <tr>\n",
       "      <th>min</th>\n",
       "      <td>1.000000e+00</td>\n",
       "      <td>9.127296e+08</td>\n",
       "    </tr>\n",
       "    <tr>\n",
       "      <th>25%</th>\n",
       "      <td>3.000000e+00</td>\n",
       "      <td>1.315354e+09</td>\n",
       "    </tr>\n",
       "    <tr>\n",
       "      <th>50%</th>\n",
       "      <td>5.000000e+00</td>\n",
       "      <td>1.361059e+09</td>\n",
       "    </tr>\n",
       "    <tr>\n",
       "      <th>75%</th>\n",
       "      <td>5.000000e+00</td>\n",
       "      <td>1.386115e+09</td>\n",
       "    </tr>\n",
       "    <tr>\n",
       "      <th>max</th>\n",
       "      <td>5.000000e+00</td>\n",
       "      <td>1.406074e+09</td>\n",
       "    </tr>\n",
       "  </tbody>\n",
       "</table>\n",
       "</div>"
      ],
      "text/plain": [
       "             rating     timestamp\n",
       "count  7.824481e+06  7.824481e+06\n",
       "mean   4.012337e+00  1.338178e+09\n",
       "std    1.380910e+00  6.900426e+07\n",
       "min    1.000000e+00  9.127296e+08\n",
       "25%    3.000000e+00  1.315354e+09\n",
       "50%    5.000000e+00  1.361059e+09\n",
       "75%    5.000000e+00  1.386115e+09\n",
       "max    5.000000e+00  1.406074e+09"
      ]
     },
     "execution_count": 6,
     "metadata": {},
     "output_type": "execute_result"
    }
   ],
   "source": [
    "electronics_data.describe()"
   ]
  },
  {
   "cell_type": "code",
   "execution_count": 7,
   "id": "c93b0ed8",
   "metadata": {},
   "outputs": [
    {
     "name": "stdout",
     "output_type": "stream",
     "text": [
      "<class 'pandas.core.frame.DataFrame'>\n",
      "RangeIndex: 7824481 entries, 0 to 7824480\n",
      "Data columns (total 4 columns):\n",
      " #   Column     Dtype \n",
      "---  ------     ----- \n",
      " 0   userId     object\n",
      " 1   productId  object\n",
      " 2   rating     int8  \n",
      " 3   timestamp  int64 \n",
      "dtypes: int64(1), int8(1), object(2)\n",
      "memory usage: 186.6+ MB\n"
     ]
    }
   ],
   "source": [
    "electronics_data.info()"
   ]
  },
  {
   "cell_type": "code",
   "execution_count": 8,
   "id": "25955cfd",
   "metadata": {},
   "outputs": [
    {
     "data": {
      "text/markdown": [
       "**Jumlah dari Ratings**: 7,824,481"
      ],
      "text/plain": [
       "<IPython.core.display.Markdown object>"
      ]
     },
     "metadata": {},
     "output_type": "display_data"
    },
    {
     "data": {
      "text/markdown": [
       "**Jenis Kolom Yang Tersedia**: ['userId' 'productId' 'rating' 'timestamp']"
      ],
      "text/plain": [
       "<IPython.core.display.Markdown object>"
      ]
     },
     "metadata": {},
     "output_type": "display_data"
    },
    {
     "data": {
      "text/markdown": [
       "**Jumlah dari User**: 4,201,696"
      ],
      "text/plain": [
       "<IPython.core.display.Markdown object>"
      ]
     },
     "metadata": {},
     "output_type": "display_data"
    },
    {
     "data": {
      "text/markdown": [
       "**Jumlah dari produk**: 476,001"
      ],
      "text/plain": [
       "<IPython.core.display.Markdown object>"
      ]
     },
     "metadata": {},
     "output_type": "display_data"
    }
   ],
   "source": [
    "printmd(\"**Jumlah dari Ratings**: {:,}\".format(electronics_data.shape[0]) )\n",
    "printmd(\"**Jenis Kolom Yang Tersedia**: {}\".format( np.array2string(electronics_data.columns.values)) )\n",
    "printmd(\"**Jumlah dari User**: {:,}\".format(len(electronics_data.userId.unique()) ) )\n",
    "printmd(\"**Jumlah dari produk**: {:,}\".format(len(electronics_data.productId.unique())  ) )"
   ]
  },
  {
   "cell_type": "markdown",
   "id": "9cff34c8",
   "metadata": {},
   "source": [
    "### Mengecek Baris Kosong"
   ]
  },
  {
   "cell_type": "code",
   "execution_count": 9,
   "id": "ac9c4fe8",
   "metadata": {},
   "outputs": [
    {
     "data": {
      "text/markdown": [
       "**Jumlah dari baris kosong**:"
      ],
      "text/plain": [
       "<IPython.core.display.Markdown object>"
      ]
     },
     "metadata": {},
     "output_type": "display_data"
    },
    {
     "data": {
      "text/html": [
       "<div>\n",
       "<style scoped>\n",
       "    .dataframe tbody tr th:only-of-type {\n",
       "        vertical-align: middle;\n",
       "    }\n",
       "\n",
       "    .dataframe tbody tr th {\n",
       "        vertical-align: top;\n",
       "    }\n",
       "\n",
       "    .dataframe thead th {\n",
       "        text-align: right;\n",
       "    }\n",
       "</style>\n",
       "<table border=\"1\" class=\"dataframe\">\n",
       "  <thead>\n",
       "    <tr style=\"text-align: right;\">\n",
       "      <th></th>\n",
       "      <th>Kolom</th>\n",
       "      <th>Total Kosong</th>\n",
       "    </tr>\n",
       "  </thead>\n",
       "  <tbody>\n",
       "    <tr>\n",
       "      <th>0</th>\n",
       "      <td>userId</td>\n",
       "      <td>0</td>\n",
       "    </tr>\n",
       "    <tr>\n",
       "      <th>1</th>\n",
       "      <td>productId</td>\n",
       "      <td>0</td>\n",
       "    </tr>\n",
       "    <tr>\n",
       "      <th>2</th>\n",
       "      <td>rating</td>\n",
       "      <td>0</td>\n",
       "    </tr>\n",
       "    <tr>\n",
       "      <th>3</th>\n",
       "      <td>timestamp</td>\n",
       "      <td>0</td>\n",
       "    </tr>\n",
       "  </tbody>\n",
       "</table>\n",
       "</div>"
      ],
      "text/plain": [
       "       Kolom  Total Kosong\n",
       "0     userId             0\n",
       "1  productId             0\n",
       "2     rating             0\n",
       "3  timestamp             0"
      ]
     },
     "execution_count": 9,
     "metadata": {},
     "output_type": "execute_result"
    }
   ],
   "source": [
    "printmd('**Jumlah dari baris kosong**:')\n",
    "pd.DataFrame(electronics_data.isnull().sum().reset_index()).rename( columns={0:\"Total Kosong\",\"index\":\"Kolom\"}) "
   ]
  },
  {
   "cell_type": "markdown",
   "id": "c2d70381",
   "metadata": {},
   "source": [
    "## Persiapan Data"
   ]
  },
  {
   "cell_type": "markdown",
   "id": "46c10d74",
   "metadata": {},
   "source": [
    "### Melihat data berdasarkan waktu dan ratingnya dijumlah"
   ]
  },
  {
   "cell_type": "code",
   "execution_count": 10,
   "id": "9bf997de",
   "metadata": {},
   "outputs": [
    {
     "data": {
      "text/markdown": [
       "**Number of Ratings each day:**"
      ],
      "text/plain": [
       "<IPython.core.display.Markdown object>"
      ]
     },
     "metadata": {},
     "output_type": "display_data"
    },
    {
     "data": {
      "text/html": [
       "<div>\n",
       "<style scoped>\n",
       "    .dataframe tbody tr th:only-of-type {\n",
       "        vertical-align: middle;\n",
       "    }\n",
       "\n",
       "    .dataframe tbody tr th {\n",
       "        vertical-align: top;\n",
       "    }\n",
       "\n",
       "    .dataframe thead th {\n",
       "        text-align: right;\n",
       "    }\n",
       "</style>\n",
       "<table border=\"1\" class=\"dataframe\">\n",
       "  <thead>\n",
       "    <tr style=\"text-align: right;\">\n",
       "      <th></th>\n",
       "      <th>timestamp</th>\n",
       "      <th>rating</th>\n",
       "    </tr>\n",
       "  </thead>\n",
       "  <tbody>\n",
       "    <tr>\n",
       "      <th>0</th>\n",
       "      <td>2014-07-14</td>\n",
       "      <td>9701</td>\n",
       "    </tr>\n",
       "    <tr>\n",
       "      <th>1</th>\n",
       "      <td>2014-07-15</td>\n",
       "      <td>6892</td>\n",
       "    </tr>\n",
       "    <tr>\n",
       "      <th>2</th>\n",
       "      <td>2014-07-16</td>\n",
       "      <td>5943</td>\n",
       "    </tr>\n",
       "    <tr>\n",
       "      <th>3</th>\n",
       "      <td>2014-07-17</td>\n",
       "      <td>4781</td>\n",
       "    </tr>\n",
       "    <tr>\n",
       "      <th>4</th>\n",
       "      <td>2014-07-18</td>\n",
       "      <td>4912</td>\n",
       "    </tr>\n",
       "    <tr>\n",
       "      <th>5</th>\n",
       "      <td>2014-07-19</td>\n",
       "      <td>4183</td>\n",
       "    </tr>\n",
       "    <tr>\n",
       "      <th>6</th>\n",
       "      <td>2014-07-20</td>\n",
       "      <td>4273</td>\n",
       "    </tr>\n",
       "    <tr>\n",
       "      <th>7</th>\n",
       "      <td>2014-07-21</td>\n",
       "      <td>5458</td>\n",
       "    </tr>\n",
       "    <tr>\n",
       "      <th>8</th>\n",
       "      <td>2014-07-22</td>\n",
       "      <td>5010</td>\n",
       "    </tr>\n",
       "    <tr>\n",
       "      <th>9</th>\n",
       "      <td>2014-07-23</td>\n",
       "      <td>695</td>\n",
       "    </tr>\n",
       "  </tbody>\n",
       "</table>\n",
       "</div>"
      ],
      "text/plain": [
       "   timestamp  rating\n",
       "0 2014-07-14    9701\n",
       "1 2014-07-15    6892\n",
       "2 2014-07-16    5943\n",
       "3 2014-07-17    4781\n",
       "4 2014-07-18    4912\n",
       "5 2014-07-19    4183\n",
       "6 2014-07-20    4273\n",
       "7 2014-07-21    5458\n",
       "8 2014-07-22    5010\n",
       "9 2014-07-23     695"
      ]
     },
     "execution_count": 10,
     "metadata": {},
     "output_type": "execute_result"
    }
   ],
   "source": [
    "data_by_date = electronics_data.copy()\n",
    "data_by_date.timestamp = pd.to_datetime(electronics_data.timestamp, unit=\"s\")#.dt.date\n",
    "data_by_date = data_by_date.sort_values(by=\"timestamp\", ascending=False).reset_index(drop=True)\n",
    "printmd(\"**Number of Ratings each day:**\")\n",
    "data_by_date.groupby(\"timestamp\")[\"rating\"].count().tail(10).reset_index()"
   ]
  },
  {
   "cell_type": "markdown",
   "id": "ce8f789f",
   "metadata": {},
   "source": [
    "### Melihat Grafik Trends Berdasarkan Waktu dan Total Pemberian Rating"
   ]
  },
  {
   "cell_type": "code",
   "execution_count": 11,
   "id": "79411b0a",
   "metadata": {},
   "outputs": [
    {
     "data": {
      "image/png": "[encoded data removed]",
      "text/plain": [
       "<Figure size 432x288 with 1 Axes>"
      ]
     },
     "metadata": {
      "needs_background": "light"
     },
     "output_type": "display_data"
    }
   ],
   "source": [
    "data_by_date[\"year\"]  = data_by_date.timestamp.dt.year\n",
    "data_by_date[\"month\"] = data_by_date.timestamp.dt.month\n",
    "rating_by_year = data_by_date.groupby([\"year\",\"month\"])[\"rating\"].count().reset_index()\n",
    "rating_by_year[\"date\"] = pd.to_datetime(rating_by_year[\"year\"].astype(\"str\")  +\"-\"+rating_by_year[\"month\"].astype(\"str\") +\"-1\")\n",
    "rating_by_year.plot(x=\"date\", y=\"rating\")\n",
    "plt.title(\"Number of Rating over years\")\n",
    "plt.show()"
   ]
  },
  {
   "cell_type": "markdown",
   "id": "743ba01d",
   "metadata": {},
   "source": [
    "## Membuat Model"
   ]
  },
  {
   "cell_type": "code",
   "execution_count": 12,
   "id": "67038ef3",
   "metadata": {},
   "outputs": [],
   "source": [
    "import numpy as np\n",
    "import tensorflow as tf\n",
    "import tensorflow_recommenders as tfrs"
   ]
  },
  {
   "cell_type": "code",
   "execution_count": 13,
   "id": "efb08978",
   "metadata": {},
   "outputs": [],
   "source": [
    "class RankingModel(tf.keras.Model):\n",
    "\n",
    "    def __init__(self):\n",
    "        super().__init__()\n",
    "        embedding_dimension = 32\n",
    "\n",
    "        self.user_embeddings = tf.keras.Sequential([\n",
    "                                    tf.keras.layers.experimental.preprocessing.StringLookup(\n",
    "                                        vocabulary=unique_userIds, mask_token=None),\n",
    "                                    tf.keras.layers.Embedding(len(unique_userIds)+1, embedding_dimension)\n",
    "                                    ])\n",
    "\n",
    "        self.product_embeddings = tf.keras.Sequential([\n",
    "                                    tf.keras.layers.experimental.preprocessing.StringLookup(\n",
    "                                        vocabulary=unique_productIds, mask_token=None),\n",
    "                                    tf.keras.layers.Embedding(len(unique_productIds)+1, embedding_dimension)\n",
    "                                    ])\n",
    "        self.ratings = tf.keras.Sequential([\n",
    "                            tf.keras.layers.Dense(256, activation=\"relu\"),\n",
    "                            tf.keras.layers.Dense(64,  activation=\"relu\"),\n",
    "                            tf.keras.layers.Dense(1)\n",
    "                              ])\n",
    "    def call(self, userId, productId):\n",
    "        user_embeddings  = self.user_embeddings (userId)\n",
    "        product_embeddings = self.product_embeddings(productId)\n",
    "        return self.ratings(tf.concat([user_embeddings,product_embeddings], axis=1))\n",
    "\n",
    "# Build a model.\n",
    "class amazonModel(tfrs.models.Model):\n",
    "\n",
    "    def __init__(self):\n",
    "        super().__init__()\n",
    "        self.ranking_model: tf.keras.Model = RankingModel()\n",
    "        self.task: tf.keras.layers.Layer   = tfrs.tasks.Ranking(\n",
    "                                                    loss    =  tf.keras.losses.MeanSquaredError(),\n",
    "                                                    metrics = [tf.keras.metrics.RootMeanSquaredError()])\n",
    "            \n",
    "\n",
    "    def compute_loss(self, features, training=False):\n",
    "        rating_predictions = self.ranking_model(features[\"userId\"], features[\"productId\"]  )\n",
    "\n",
    "        return self.task( labels=features[\"rating\"], predictions=rating_predictions)"
   ]
  },
  {
   "cell_type": "code",
   "execution_count": 25,
   "id": "b7739b04",
   "metadata": {},
   "outputs": [],
   "source": [
    "userIds    = recent_prod.userId.unique()\n",
    "productIds = recent_prod.productId.unique()\n",
    "total_ratings= len(recent_prod.index)"
   ]
  },
  {
   "cell_type": "code",
   "execution_count": 16,
   "id": "95273b69",
   "metadata": {},
   "outputs": [],
   "source": [
    "ratings = tf.data.Dataset.from_tensor_slices( {\"userId\":tf.cast( recent_prod.userId.values  ,tf.string),\n",
    "                                \"productId\":tf.cast( recent_prod.productId.values,tf.string),\n",
    "                                \"rating\":tf.cast( recent_prod.rating.values  ,tf.int8,) } )"
   ]
  },
  {
   "cell_type": "code",
   "execution_count": 17,
   "id": "7b85f0f5",
   "metadata": {},
   "outputs": [],
   "source": [
    "tf.random.set_seed(42)\n",
    "shuffled = ratings.shuffle(100_000, seed=42, reshuffle_each_iteration=False)\n",
    "\n",
    "train = shuffled.take( int(total_ratings*0.8) )\n",
    "test = shuffled.skip(int(total_ratings*0.8)).take(int(total_ratings*0.2))\n",
    "\n",
    "unique_productIds = productIds\n",
    "unique_userIds    = userIds"
   ]
  },
  {
   "cell_type": "markdown",
   "id": "2310e848",
   "metadata": {},
   "source": [
    "## Model Aktif Mempelajari Pola"
   ]
  },
  {
   "cell_type": "code",
   "execution_count": 18,
   "id": "51a95c7e",
   "metadata": {},
   "outputs": [
    {
     "name": "stdout",
     "output_type": "stream",
     "text": [
      "Epoch 1/20\n",
      "369/369 [==============================] - 24s 60ms/step - root_mean_squared_error: 1.3593 - loss: 1.8465 - regularization_loss: 0.0000e+00 - total_loss: 1.8465\n",
      "Epoch 2/20\n",
      "369/369 [==============================] - 2s 5ms/step - root_mean_squared_error: 1.2694 - loss: 1.6107 - regularization_loss: 0.0000e+00 - total_loss: 1.6107\n",
      "Epoch 3/20\n",
      "369/369 [==============================] - 1s 4ms/step - root_mean_squared_error: 1.2503 - loss: 1.5627 - regularization_loss: 0.0000e+00 - total_loss: 1.5627\n",
      "Epoch 4/20\n",
      "369/369 [==============================] - 1s 4ms/step - root_mean_squared_error: 1.2447 - loss: 1.5487 - regularization_loss: 0.0000e+00 - total_loss: 1.5487\n",
      "Epoch 5/20\n",
      "369/369 [==============================] - 1s 4ms/step - root_mean_squared_error: 1.2428 - loss: 1.5441 - regularization_loss: 0.0000e+00 - total_loss: 1.5441\n",
      "Epoch 6/20\n",
      "369/369 [==============================] - 1s 4ms/step - root_mean_squared_error: 1.2420 - loss: 1.5421 - regularization_loss: 0.0000e+00 - total_loss: 1.5421\n",
      "Epoch 7/20\n",
      "369/369 [==============================] - 1s 4ms/step - root_mean_squared_error: 1.2415 - loss: 1.5410 - regularization_loss: 0.0000e+00 - total_loss: 1.5410\n",
      "Epoch 8/20\n",
      "369/369 [==============================] - 1s 4ms/step - root_mean_squared_error: 1.2412 - loss: 1.5401 - regularization_loss: 0.0000e+00 - total_loss: 1.5401\n",
      "Epoch 9/20\n",
      "369/369 [==============================] - 1s 4ms/step - root_mean_squared_error: 1.2409 - loss: 1.5395 - regularization_loss: 0.0000e+00 - total_loss: 1.5395\n",
      "Epoch 10/20\n",
      "369/369 [==============================] - 1s 4ms/step - root_mean_squared_error: 1.2407 - loss: 1.5389 - regularization_loss: 0.0000e+00 - total_loss: 1.5389\n",
      "Epoch 11/20\n",
      "369/369 [==============================] - 1s 4ms/step - root_mean_squared_error: 1.2405 - loss: 1.5383 - regularization_loss: 0.0000e+00 - total_loss: 1.5383\n",
      "Epoch 12/20\n",
      "369/369 [==============================] - 1s 4ms/step - root_mean_squared_error: 1.2402 - loss: 1.5377 - regularization_loss: 0.0000e+00 - total_loss: 1.5377\n",
      "Epoch 13/20\n",
      "369/369 [==============================] - 1s 4ms/step - root_mean_squared_error: 1.2399 - loss: 1.5370 - regularization_loss: 0.0000e+00 - total_loss: 1.5370\n",
      "Epoch 14/20\n",
      "369/369 [==============================] - 1s 4ms/step - root_mean_squared_error: 1.2396 - loss: 1.5362 - regularization_loss: 0.0000e+00 - total_loss: 1.5362\n",
      "Epoch 15/20\n",
      "369/369 [==============================] - 1s 4ms/step - root_mean_squared_error: 1.2392 - loss: 1.5352 - regularization_loss: 0.0000e+00 - total_loss: 1.5352\n",
      "Epoch 16/20\n",
      "369/369 [==============================] - 1s 4ms/step - root_mean_squared_error: 1.2387 - loss: 1.5340 - regularization_loss: 0.0000e+00 - total_loss: 1.5340\n",
      "Epoch 17/20\n",
      "369/369 [==============================] - 1s 4ms/step - root_mean_squared_error: 1.2381 - loss: 1.5324 - regularization_loss: 0.0000e+00 - total_loss: 1.5324\n",
      "Epoch 18/20\n",
      "369/369 [==============================] - 2s 4ms/step - root_mean_squared_error: 1.2372 - loss: 1.5302 - regularization_loss: 0.0000e+00 - total_loss: 1.5302\n",
      "Epoch 19/20\n",
      "369/369 [==============================] - 1s 4ms/step - root_mean_squared_error: 1.2361 - loss: 1.5274 - regularization_loss: 0.0000e+00 - total_loss: 1.5274\n",
      "Epoch 20/20\n",
      "369/369 [==============================] - 1s 4ms/step - root_mean_squared_error: 1.2346 - loss: 1.5237 - regularization_loss: 0.0000e+00 - total_loss: 1.5237\n"
     ]
    },
    {
     "data": {
      "text/plain": [
       "<keras.callbacks.History at 0x1770b2a82e0>"
      ]
     },
     "execution_count": 18,
     "metadata": {},
     "output_type": "execute_result"
    }
   ],
   "source": [
    "model = amazonModel()\n",
    "model.compile(optimizer=tf.keras.optimizers.Adagrad( learning_rate=0.1 ), metrics=['accuracy'])\n",
    "cached_train = train.shuffle(100_000).batch(8192).cache()\n",
    "cached_test = test.batch(4096).cache()\n",
    "model.fit(cached_train, epochs=20)"
   ]
  },
  {
   "cell_type": "code",
   "execution_count": 19,
   "id": "1b99963a",
   "metadata": {},
   "outputs": [
    {
     "name": "stdout",
     "output_type": "stream",
     "text": [
      "185/185 [==============================] - 13s 22ms/step - root_mean_squared_error: 1.3098 - loss: 1.7162 - regularization_loss: 0.0000e+00 - total_loss: 1.7162\n"
     ]
    },
    {
     "data": {
      "text/plain": [
       "{'root_mean_squared_error': 1.3098413944244385,\n",
       " 'loss': 1.7769274711608887,\n",
       " 'regularization_loss': 0,\n",
       " 'total_loss': 1.7769274711608887}"
      ]
     },
     "execution_count": 19,
     "metadata": {},
     "output_type": "execute_result"
    }
   ],
   "source": [
    "# Evaluasi\n",
    "model.evaluate(cached_test, return_dict=True)"
   ]
  },
  {
   "cell_type": "markdown",
   "id": "c998155e",
   "metadata": {},
   "source": [
    "## Uji Coba Prediksi"
   ]
  },
  {
   "cell_type": "code",
   "execution_count": 24,
   "id": "ae2a51c7",
   "metadata": {},
   "outputs": [
    {
     "name": "stdout",
     "output_type": "stream",
     "text": [
      "5 Produk ID Teratas untuk user A32PYU1S3Y7QFY: \n",
      "B002FFG6JC\n",
      "B004ABO7QI\n",
      "B006YW3DI4\n",
      "B0012YJQWQ\n",
      "B006ZBWV0K\n"
     ]
    }
   ],
   "source": [
    "print(\"5 Produk ID Teratas untuk user {}: \".format(userIds[123]))\n",
    "for m in sorted(test_rating, key=test_rating.get, reverse=True):\n",
    "    print(m.decode())"
   ]
  },
  {
   "cell_type": "code",
   "execution_count": null,
   "id": "54a878cf",
   "metadata": {},
   "outputs": [],
   "source": []
  }
 ],
 "metadata": {
  "kernelspec": {
   "display_name": "Python 3 (ipykernel)",
   "language": "python",
   "name": "python3"
  },
  "language_info": {
   "codemirror_mode": {
    "name": "ipython",
    "version": 3
   },
   "file_extension": ".py",
   "mimetype": "text/x-python",
   "name": "python",
   "nbconvert_exporter": "python",
   "pygments_lexer": "ipython3",
   "version": "3.9.12"
  }
 },
 "nbformat": 4,
 "nbformat_minor": 5
}
