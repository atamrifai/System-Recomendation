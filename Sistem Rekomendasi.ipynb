{
 "cells": [
  {
   "cell_type": "markdown",
   "id": "ab3e6f80",
   "metadata": {},
   "source": [
    "# Sistem Rekomendasi"
   ]
  },
  {
   "cell_type": "markdown",
   "id": "a4018588",
   "metadata": {},
   "source": [
    "Cara kerja sistem rekomendasi ini adalah merekomendasikan barang barang lain berdasarkan disrkipsi produk yang ada, jadi ibaratkan kita berbelanja di toko atamstore, kemudian mencari dengan kata kunci **'water'** maka benda benda lain yang berhubungan dengan **'water'** akan muncul berdasarkan _clustering_"
   ]
  },
  {
   "cell_type": "markdown",
   "id": "6c4e88e4",
   "metadata": {},
   "source": [
    "## _Import Library_"
   ]
  },
  {
   "cell_type": "code",
   "execution_count": 1,
   "id": "d39a00b9",
   "metadata": {},
   "outputs": [],
   "source": [
    "from sklearn.feature_extraction.text import TfidfVectorizer, CountVectorizer\n",
    "from sklearn.neighbors import NearestNeighbors\n",
    "from sklearn.cluster import KMeans\n",
    "from sklearn.metrics import adjusted_rand_score\n",
    "import pandas as pd\n",
    "import matplotlib.pyplot as plt"
   ]
  },
  {
   "cell_type": "markdown",
   "id": "b5dbcf27",
   "metadata": {},
   "source": [
    "## Persiapan Data"
   ]
  },
  {
   "cell_type": "markdown",
   "id": "171a593d",
   "metadata": {},
   "source": [
    "### Menampilkan Data"
   ]
  },
  {
   "cell_type": "code",
   "execution_count": 21,
   "id": "1b1c80c5",
   "metadata": {},
   "outputs": [
    {
     "data": {
      "text/html": [
       "<div>\n",
       "<style scoped>\n",
       "    .dataframe tbody tr th:only-of-type {\n",
       "        vertical-align: middle;\n",
       "    }\n",
       "\n",
       "    .dataframe tbody tr th {\n",
       "        vertical-align: top;\n",
       "    }\n",
       "\n",
       "    .dataframe thead th {\n",
       "        text-align: right;\n",
       "    }\n",
       "</style>\n",
       "<table border=\"1\" class=\"dataframe\">\n",
       "  <thead>\n",
       "    <tr style=\"text-align: right;\">\n",
       "      <th></th>\n",
       "      <th>product_uid</th>\n",
       "      <th>product_description</th>\n",
       "    </tr>\n",
       "  </thead>\n",
       "  <tbody>\n",
       "    <tr>\n",
       "      <th>0</th>\n",
       "      <td>100001</td>\n",
       "      <td>Not only do angles make joints stronger, they ...</td>\n",
       "    </tr>\n",
       "    <tr>\n",
       "      <th>1</th>\n",
       "      <td>100002</td>\n",
       "      <td>BEHR Premium Textured DECKOVER is an innovativ...</td>\n",
       "    </tr>\n",
       "    <tr>\n",
       "      <th>2</th>\n",
       "      <td>100003</td>\n",
       "      <td>Classic architecture meets contemporary design...</td>\n",
       "    </tr>\n",
       "    <tr>\n",
       "      <th>3</th>\n",
       "      <td>100004</td>\n",
       "      <td>The Grape Solar 265-Watt Polycrystalline PV So...</td>\n",
       "    </tr>\n",
       "    <tr>\n",
       "      <th>4</th>\n",
       "      <td>100005</td>\n",
       "      <td>Update your bathroom with the Delta Vero Singl...</td>\n",
       "    </tr>\n",
       "    <tr>\n",
       "      <th>...</th>\n",
       "      <td>...</td>\n",
       "      <td>...</td>\n",
       "    </tr>\n",
       "    <tr>\n",
       "      <th>124423</th>\n",
       "      <td>224424</td>\n",
       "      <td>Create a neat yet stylish storage space for or...</td>\n",
       "    </tr>\n",
       "    <tr>\n",
       "      <th>124424</th>\n",
       "      <td>224425</td>\n",
       "      <td>Our Bullnose Adirondack Chair Cushions fit Adi...</td>\n",
       "    </tr>\n",
       "    <tr>\n",
       "      <th>124425</th>\n",
       "      <td>224426</td>\n",
       "      <td>Joist hangers are designed to provide support ...</td>\n",
       "    </tr>\n",
       "    <tr>\n",
       "      <th>124426</th>\n",
       "      <td>224427</td>\n",
       "      <td>These socket cap screws are ideal for applicat...</td>\n",
       "    </tr>\n",
       "    <tr>\n",
       "      <th>124427</th>\n",
       "      <td>224428</td>\n",
       "      <td>The Bosch quick change bi-metal hole saws feat...</td>\n",
       "    </tr>\n",
       "  </tbody>\n",
       "</table>\n",
       "<p>124428 rows × 2 columns</p>\n",
       "</div>"
      ],
      "text/plain": [
       "        product_uid                                product_description\n",
       "0            100001  Not only do angles make joints stronger, they ...\n",
       "1            100002  BEHR Premium Textured DECKOVER is an innovativ...\n",
       "2            100003  Classic architecture meets contemporary design...\n",
       "3            100004  The Grape Solar 265-Watt Polycrystalline PV So...\n",
       "4            100005  Update your bathroom with the Delta Vero Singl...\n",
       "...             ...                                                ...\n",
       "124423       224424  Create a neat yet stylish storage space for or...\n",
       "124424       224425  Our Bullnose Adirondack Chair Cushions fit Adi...\n",
       "124425       224426  Joist hangers are designed to provide support ...\n",
       "124426       224427  These socket cap screws are ideal for applicat...\n",
       "124427       224428  The Bosch quick change bi-metal hole saws feat...\n",
       "\n",
       "[124428 rows x 2 columns]"
      ]
     },
     "execution_count": 21,
     "metadata": {},
     "output_type": "execute_result"
    }
   ],
   "source": [
    "amazon_desc = pd.read_csv('C:/Users/Atam Rifai S/OneDrive - ITPLN/OneDrive - Komputer/Script/Machine Learning/Dicoding/Rekomendasi sistem/product_descriptions.csv')\n",
    "amazon_desc"
   ]
  },
  {
   "cell_type": "markdown",
   "id": "bdc9fcd5",
   "metadata": {},
   "source": [
    "### Memahami Isi Data"
   ]
  },
  {
   "cell_type": "code",
   "execution_count": 22,
   "id": "669a7d6d",
   "metadata": {},
   "outputs": [
    {
     "data": {
      "text/html": [
       "<div>\n",
       "<style scoped>\n",
       "    .dataframe tbody tr th:only-of-type {\n",
       "        vertical-align: middle;\n",
       "    }\n",
       "\n",
       "    .dataframe tbody tr th {\n",
       "        vertical-align: top;\n",
       "    }\n",
       "\n",
       "    .dataframe thead th {\n",
       "        text-align: right;\n",
       "    }\n",
       "</style>\n",
       "<table border=\"1\" class=\"dataframe\">\n",
       "  <thead>\n",
       "    <tr style=\"text-align: right;\">\n",
       "      <th></th>\n",
       "      <th>product_uid</th>\n",
       "    </tr>\n",
       "  </thead>\n",
       "  <tbody>\n",
       "    <tr>\n",
       "      <th>count</th>\n",
       "      <td>124428.000000</td>\n",
       "    </tr>\n",
       "    <tr>\n",
       "      <th>mean</th>\n",
       "      <td>162214.500000</td>\n",
       "    </tr>\n",
       "    <tr>\n",
       "      <th>std</th>\n",
       "      <td>35919.413985</td>\n",
       "    </tr>\n",
       "    <tr>\n",
       "      <th>min</th>\n",
       "      <td>100001.000000</td>\n",
       "    </tr>\n",
       "    <tr>\n",
       "      <th>25%</th>\n",
       "      <td>131107.750000</td>\n",
       "    </tr>\n",
       "    <tr>\n",
       "      <th>50%</th>\n",
       "      <td>162214.500000</td>\n",
       "    </tr>\n",
       "    <tr>\n",
       "      <th>75%</th>\n",
       "      <td>193321.250000</td>\n",
       "    </tr>\n",
       "    <tr>\n",
       "      <th>max</th>\n",
       "      <td>224428.000000</td>\n",
       "    </tr>\n",
       "  </tbody>\n",
       "</table>\n",
       "</div>"
      ],
      "text/plain": [
       "         product_uid\n",
       "count  124428.000000\n",
       "mean   162214.500000\n",
       "std     35919.413985\n",
       "min    100001.000000\n",
       "25%    131107.750000\n",
       "50%    162214.500000\n",
       "75%    193321.250000\n",
       "max    224428.000000"
      ]
     },
     "execution_count": 22,
     "metadata": {},
     "output_type": "execute_result"
    }
   ],
   "source": [
    "amazon_desc.describe()"
   ]
  },
  {
   "cell_type": "markdown",
   "id": "713236c0",
   "metadata": {},
   "source": [
    "### Membersihkan Data"
   ]
  },
  {
   "cell_type": "code",
   "execution_count": 24,
   "id": "b0255059",
   "metadata": {},
   "outputs": [
    {
     "data": {
      "text/html": [
       "<div>\n",
       "<style scoped>\n",
       "    .dataframe tbody tr th:only-of-type {\n",
       "        vertical-align: middle;\n",
       "    }\n",
       "\n",
       "    .dataframe tbody tr th {\n",
       "        vertical-align: top;\n",
       "    }\n",
       "\n",
       "    .dataframe thead th {\n",
       "        text-align: right;\n",
       "    }\n",
       "</style>\n",
       "<table border=\"1\" class=\"dataframe\">\n",
       "  <thead>\n",
       "    <tr style=\"text-align: right;\">\n",
       "      <th></th>\n",
       "      <th>product_uid</th>\n",
       "      <th>product_description</th>\n",
       "    </tr>\n",
       "  </thead>\n",
       "  <tbody>\n",
       "    <tr>\n",
       "      <th>0</th>\n",
       "      <td>100001</td>\n",
       "      <td>Not only do angles make joints stronger, they ...</td>\n",
       "    </tr>\n",
       "    <tr>\n",
       "      <th>1</th>\n",
       "      <td>100002</td>\n",
       "      <td>BEHR Premium Textured DECKOVER is an innovativ...</td>\n",
       "    </tr>\n",
       "    <tr>\n",
       "      <th>2</th>\n",
       "      <td>100003</td>\n",
       "      <td>Classic architecture meets contemporary design...</td>\n",
       "    </tr>\n",
       "    <tr>\n",
       "      <th>3</th>\n",
       "      <td>100004</td>\n",
       "      <td>The Grape Solar 265-Watt Polycrystalline PV So...</td>\n",
       "    </tr>\n",
       "    <tr>\n",
       "      <th>4</th>\n",
       "      <td>100005</td>\n",
       "      <td>Update your bathroom with the Delta Vero Singl...</td>\n",
       "    </tr>\n",
       "  </tbody>\n",
       "</table>\n",
       "</div>"
      ],
      "text/plain": [
       "   product_uid                                product_description\n",
       "0       100001  Not only do angles make joints stronger, they ...\n",
       "1       100002  BEHR Premium Textured DECKOVER is an innovativ...\n",
       "2       100003  Classic architecture meets contemporary design...\n",
       "3       100004  The Grape Solar 265-Watt Polycrystalline PV So...\n",
       "4       100005  Update your bathroom with the Delta Vero Singl..."
      ]
     },
     "execution_count": 24,
     "metadata": {},
     "output_type": "execute_result"
    }
   ],
   "source": [
    "amazon_desc = product_descriptions.dropna()\n",
    "product_descriptions.head()"
   ]
  },
  {
   "cell_type": "code",
   "execution_count": 5,
   "id": "1312762a",
   "metadata": {},
   "outputs": [
    {
     "data": {
      "text/plain": [
       "0     Not only do angles make joints stronger, they ...\n",
       "1     BEHR Premium Textured DECKOVER is an innovativ...\n",
       "2     Classic architecture meets contemporary design...\n",
       "3     The Grape Solar 265-Watt Polycrystalline PV So...\n",
       "4     Update your bathroom with the Delta Vero Singl...\n",
       "5     Achieving delicious results is almost effortle...\n",
       "6     The Quantum Adjustable 2-Light LED Black Emerg...\n",
       "7     The Teks #10 x 1-1/2 in. Zinc-Plated Steel Was...\n",
       "8     Get the House of Fara 3/4 in. x 3 in. x 8 ft. ...\n",
       "9     Valley View Industries Metal Stakes (4-Pack) a...\n",
       "10    Recycler 22 in. Personal Pace Variable Speed S...\n",
       "11    The 96 in. wide Caramel Simple Weave Rollup Ba...\n",
       "12    The InSinkErator SinkTop Switch Single Outlet ...\n",
       "13    The Rubbermaid 1-Step Folding Plastic Step Sto...\n",
       "14    Backyard X-Scapes, Inc. uses the finest bamboo...\n",
       "15    Make grilling great with this handsome and fun...\n",
       "16    The MD Building Products 36 in. x 36 in. x 1/5...\n",
       "17    This classic plastic sprinkler head that fits ...\n",
       "18    The House of Fara 8 Linear ft. primed MDF Over...\n",
       "19    These unique LED multi-color sticks are sure t...\n",
       "20    Installed in parks and backyards across the gl...\n",
       "21    The Samsung 4.2 cu. ft. Front Load Washer with...\n",
       "22    Quikrete 80 lb. Crack-Resistant Concrete is de...\n",
       "23    From Smartphones to refrigerators and everythi...\n",
       "24    Save your back and make moving easier with thi...\n",
       "25    Our 10 ft. x 10 ft. (100 sq. ft.) Yorkstone pa...\n",
       "26    The UltraTouch 48 in. x 24 ft. Radiant Barrier...\n",
       "27    Reed fencing is a convenient and cost effectiv...\n",
       "28    Achieving a vintage, time-worn look is simple ...\n",
       "29    White Designer Shelf Brackets offer a stylish ...\n",
       "30    The Mosser Lee 5 lb. Assorted Polished Stone m...\n",
       "31    The NorskWall NSNW4PK Panel Kit is an innovati...\n",
       "32    This easy-to-assemble Decorative Wire Chrome F...\n",
       "33    Use the Marshalltown Masonry Brush for a wide ...\n",
       "34    The FirsTime Champagne Essential wall clock is...\n",
       "35    This 12 in. Single Track Bracket from Rubberma...\n",
       "36    The Husky 9-Pocket Maintenance Pouch has multi...\n",
       "37    RIDGID presents the X4 18-Volt 1/2 in. Impact ...\n",
       "38    The Emberglow Vent-Free Gas Stove helps add wa...\n",
       "39    With an exceptional variety of different style...\n",
       "40    The 12in LED Silver Under Cabinet Light (2-pac...\n",
       "41    Update the look of your bathroom with help fro...\n",
       "42    Quikrete 50 lb. Non-Shrink Precision Grout is ...\n",
       "43    Create a fixture just about anywhere with this...\n",
       "44    The Grayson collection from Thomasville brings...\n",
       "45    The HDX 6 ft. long Heavy Duty Steel Green Pain...\n",
       "46    This expanded sheet metal can be altered in sh...\n",
       "47    Offering the ultimate in versatility, Werner's...\n",
       "48    Henry 587 Durabrite white elastomeric roof coa...\n",
       "49    Sit back and relax in comfort and style in the...\n",
       "Name: product_description, dtype: object"
      ]
     },
     "execution_count": 5,
     "metadata": {},
     "output_type": "execute_result"
    }
   ],
   "source": [
    "product_descriptions1 = product_descriptions.head(2000)\n",
    "# product_descriptions1.iloc[:,1]\n",
    "\n",
    "product_descriptions1[\"product_description\"].head(50)"
   ]
  },
  {
   "cell_type": "markdown",
   "id": "c5b14785",
   "metadata": {},
   "source": [
    "## Menyusun Algoritma Sistem Rekomendasi"
   ]
  },
  {
   "cell_type": "markdown",
   "id": "d9cbfef1",
   "metadata": {},
   "source": [
    "### Mengubah Kata Menjadi Vector Berdasarkan Kata Kunci"
   ]
  },
  {
   "cell_type": "code",
   "execution_count": 6,
   "id": "27c1836c",
   "metadata": {},
   "outputs": [
    {
     "data": {
      "text/plain": [
       "<2000x20681 sparse matrix of type '<class 'numpy.float64'>'\n",
       "\twith 141753 stored elements in Compressed Sparse Row format>"
      ]
     },
     "execution_count": 6,
     "metadata": {},
     "output_type": "execute_result"
    }
   ],
   "source": [
    "vectorizer = TfidfVectorizer(stop_words='english')\n",
    "X1 = vectorizer.fit_transform(product_descriptions1[\"product_description\"])\n",
    "X1"
   ]
  },
  {
   "cell_type": "markdown",
   "id": "e893f7bd",
   "metadata": {},
   "source": [
    "### Membuat Klustering Pada Setiap Kata Kunci"
   ]
  },
  {
   "cell_type": "code",
   "execution_count": 7,
   "id": "81b11713",
   "metadata": {},
   "outputs": [
    {
     "data": {
      "image/png": "[encoded data removed]",
      "text/plain": [
       "<Figure size 432x288 with 1 Axes>"
      ]
     },
     "metadata": {
      "needs_background": "light"
     },
     "output_type": "display_data"
    }
   ],
   "source": [
    "# Fitting K-Means to the dataset\n",
    "\n",
    "X=X1\n",
    "\n",
    "kmeans = KMeans(n_clusters = 10, init = 'k-means++')\n",
    "y_kmeans = kmeans.fit_predict(X)\n",
    "plt.plot(y_kmeans, \".\")\n",
    "plt.show()"
   ]
  },
  {
   "cell_type": "code",
   "execution_count": 8,
   "id": "204c4620",
   "metadata": {},
   "outputs": [],
   "source": [
    "def print_cluster(i):\n",
    "    print(\"Cluster %d:\" % i),\n",
    "    for ind in order_centroids[i, :10]:\n",
    "        print(' %s' % terms[ind]),\n",
    "    print"
   ]
  },
  {
   "cell_type": "code",
   "execution_count": 9,
   "id": "efa80fac",
   "metadata": {},
   "outputs": [
    {
     "name": "stdout",
     "output_type": "stream",
     "text": [
      "Top terms per cluster:\n",
      "Cluster 0:\n",
      " door\n",
      " doors\n",
      " glass\n",
      " steel\n",
      " security\n",
      " energy\n",
      " garage\n",
      " pet\n",
      " frame\n",
      " hinges\n",
      "Cluster 1:\n",
      " wood\n",
      " california\n",
      " proposition\n",
      " 65\n",
      " nbsp\n",
      " residents\n",
      " insulation\n",
      " paint\n",
      " ft\n",
      " concrete\n",
      "Cluster 2:\n",
      " air\n",
      " heat\n",
      " cooling\n",
      " 000\n",
      " fan\n",
      " control\n",
      " btu\n",
      " room\n",
      " unit\n",
      " cool\n",
      "Cluster 3:\n",
      " water\n",
      " heater\n",
      " toilet\n",
      " tank\n",
      " bowl\n",
      " flush\n",
      " hot\n",
      " gal\n",
      " valve\n",
      " easy\n",
      "Cluster 4:\n",
      " ft\n",
      " use\n",
      " easy\n",
      " design\n",
      " used\n",
      " water\n",
      " resistant\n",
      " steel\n",
      " construction\n",
      " aluminum\n",
      "Cluster 5:\n",
      " light\n",
      " watt\n",
      " led\n",
      " bulb\n",
      " fixture\n",
      " lighting\n",
      " bulbs\n",
      " fan\n",
      " ceiling\n",
      " glass\n",
      "Cluster 6:\n",
      " tile\n",
      " rug\n",
      " ceramic\n",
      " flooring\n",
      " installation\n",
      " floor\n",
      " indoor\n",
      " residential\n",
      " recommended\n",
      " orders\n",
      "Cluster 7:\n",
      " cooking\n",
      " cu\n",
      " cycle\n",
      " wash\n",
      " oven\n",
      " clothes\n",
      " dryer\n",
      " washer\n",
      " cycles\n",
      " options\n",
      "Cluster 8:\n",
      " power\n",
      " volt\n",
      " speed\n",
      " battery\n",
      " tool\n",
      " engine\n",
      " protection\n",
      " lithium\n",
      " blade\n",
      " plan\n",
      "Cluster 9:\n",
      " storage\n",
      " steel\n",
      " shelves\n",
      " shelf\n",
      " finish\n",
      " lbs\n",
      " cabinet\n",
      " metal\n",
      " frame\n",
      " adjustable\n"
     ]
    },
    {
     "name": "stderr",
     "output_type": "stream",
     "text": [
      "C:\\ProgramData\\Anaconda3\\lib\\site-packages\\sklearn\\utils\\deprecation.py:87: FutureWarning: Function get_feature_names is deprecated; get_feature_names is deprecated in 1.0 and will be removed in 1.2. Please use get_feature_names_out instead.\n",
      "  warnings.warn(msg, category=FutureWarning)\n"
     ]
    }
   ],
   "source": [
    "# # Optimal clusters is \n",
    "\n",
    "true_k = 10\n",
    "\n",
    "model = KMeans(n_clusters=true_k, init='k-means++', max_iter=100, n_init=1)\n",
    "model.fit(X1)\n",
    "\n",
    "print(\"Top terms per cluster:\")\n",
    "order_centroids = model.cluster_centers_.argsort()[:, ::-1]\n",
    "terms = vectorizer.get_feature_names()\n",
    "for i in range(true_k):\n",
    "    print_cluster(i)"
   ]
  },
  {
   "cell_type": "markdown",
   "id": "51bde9cf",
   "metadata": {},
   "source": [
    "### Membuat Fungsi Untuk Menjalankan Prediksi"
   ]
  },
  {
   "cell_type": "code",
   "execution_count": 10,
   "id": "3a2c58cf",
   "metadata": {},
   "outputs": [],
   "source": [
    "def show_recommendations(product):\n",
    "    #print(\"Cluster ID:\")\n",
    "    Y = vectorizer.transform([product])\n",
    "    prediction = model.predict(Y)\n",
    "    #print(prediction)\n",
    "    print_cluster(prediction[0])"
   ]
  },
  {
   "cell_type": "markdown",
   "id": "518ccce4",
   "metadata": {},
   "source": [
    "## Menjalankan Prediksi"
   ]
  },
  {
   "cell_type": "code",
   "execution_count": 14,
   "id": "2d7da5a3",
   "metadata": {},
   "outputs": [
    {
     "name": "stdout",
     "output_type": "stream",
     "text": [
      "Cluster 3:\n",
      " water\n",
      " heater\n",
      " toilet\n",
      " tank\n",
      " bowl\n",
      " flush\n",
      " hot\n",
      " gal\n",
      " valve\n",
      " easy\n"
     ]
    }
   ],
   "source": [
    "show_recommendations(\"water\")"
   ]
  },
  {
   "cell_type": "code",
   "execution_count": 19,
   "id": "16dd4a32",
   "metadata": {},
   "outputs": [
    {
     "name": "stdout",
     "output_type": "stream",
     "text": [
      "Cluster 1:\n",
      " wood\n",
      " california\n",
      " proposition\n",
      " 65\n",
      " nbsp\n",
      " residents\n",
      " insulation\n",
      " paint\n",
      " ft\n",
      " concrete\n"
     ]
    }
   ],
   "source": [
    "show_recommendations(\"paint\")"
   ]
  },
  {
   "cell_type": "markdown",
   "id": "d7902a3b",
   "metadata": {},
   "source": [
    "## Kesimpulan"
   ]
  },
  {
   "cell_type": "markdown",
   "id": "d0cb95b6",
   "metadata": {},
   "source": [
    "Sistem rekomendasi dapat berjalan **dengan baik** dengan mengklasifikasi dan _cluster_ dari setiap kata kunci menggunakan algoritma **K-Means**. Dengan begini, ketika kita ingin mencari satu kata kunci maka sistem akan memberikan rekomendasi kata kunci lain. _Ini berguna pada sistem e-commerce, supaya pembeli terus melakukan pembelian_"
   ]
  }
 ],
 "metadata": {
  "kernelspec": {
   "display_name": "Python 3 (ipykernel)",
   "language": "python",
   "name": "python3"
  },
  "language_info": {
   "codemirror_mode": {
    "name": "ipython",
    "version": 3
   },
   "file_extension": ".py",
   "mimetype": "text/x-python",
   "name": "python",
   "nbconvert_exporter": "python",
   "pygments_lexer": "ipython3",
   "version": "3.9.12"
  }
 },
 "nbformat": 4,
 "nbformat_minor": 5
}
